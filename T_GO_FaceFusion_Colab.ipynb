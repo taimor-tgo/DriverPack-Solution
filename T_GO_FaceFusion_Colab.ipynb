{
  "cells": [
    {
      "cell_type": "markdown",
      "metadata": {
        "id": "view-in-github",
        "colab_type": "text"
      },
      "source": [
        "<a href=\"https://colab.research.google.com/github/taimor-tgo/DriverPack-Solution/blob/master/T_GO_FaceFusion_Colab.ipynb\" target=\"_parent\"><img src=\"https://colab.research.google.com/assets/colab-badge.svg\" alt=\"Open In Colab\"/></a>"
      ]
    },
    {
      "cell_type": "markdown",
      "metadata": {
        "id": "W-uN9WPHmkSs"
      },
      "source": [
        "## طريقة تركيب وجهك على فيديو و تبديل الوجوه في الصور بالذكاء الاصطناعى - ديب فيك\n",
        "\n",
        "\n",
        "[اشترك فى قناة تى جو](https://www.youtube.com/@T-GO/videos)\n",
        "\n",
        "![Untitled-1.jpg](https://yt3.googleusercontent.com/dTrUkoruzVk9-oFxiDzdou21e-lYMCfUTCoKcvPoubvfbJNX3Joft_FVFeVGxdIa0YLZim18aw=s176-c-k-c0x00ffffff-no-rj)\n"
      ]
    },
    {
      "cell_type": "code",
      "execution_count": null,
      "metadata": {
        "id": "qMbQ-URbzB0g"
      },
      "outputs": [],
      "source": [
        "#@title <h1>الخطوة الأولى: التثبيت</h1>\n",
        "!git clone https://github.com/basetatube/facefusion.git\n",
        "%cd /content/facefusion\n",
        "!pip install -r requirements.txt\n",
        "!pip install onnxruntime-gpu"
      ]
    },
    {
      "cell_type": "code",
      "execution_count": null,
      "metadata": {
        "id": "I6psOK4dAJrJ"
      },
      "outputs": [],
      "source": [
        "#@title <h1>الخطوة الثانية</h1>\n",
        "# Path to the core.py file\n",
        "file_path = '/content/facefusion/facefusion/uis/layouts/default.py'\n",
        "\n",
        "# Read the content of the file\n",
        "with open(file_path, 'r') as file:\n",
        "    content = file.read()\n",
        "\n",
        "# Replace the line with the updated version\n",
        "updated_content = content.replace(\"ui.launch(show_api = False)\", \"ui.launch(show_api = False, share=True, enable_queue=True)\")\n",
        "\n",
        "# Write the updated content back to the file\n",
        "with open(file_path, 'w') as file:\n",
        "    file.write(updated_content)\n"
      ]
    },
    {
      "cell_type": "code",
      "execution_count": null,
      "metadata": {
        "colab": {
          "background_save": true
        },
        "id": "nBJZm44Tzkxr"
      },
      "outputs": [],
      "source": [
        "#@title <h1>الخطوة الثالثة</h1>\n",
        "!python run.py"
      ]
    }
  ],
  "metadata": {
    "accelerator": "GPU",
    "colab": {
      "provenance": [],
      "include_colab_link": true
    },
    "kernelspec": {
      "display_name": "Python 3",
      "name": "python3"
    },
    "language_info": {
      "name": "python"
    }
  },
  "nbformat": 4,
  "nbformat_minor": 0
}